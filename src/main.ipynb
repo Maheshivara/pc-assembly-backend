{
 "cells": [
  {
   "cell_type": "code",
   "execution_count": 18,
   "id": "1d322eb0",
   "metadata": {},
   "outputs": [],
   "source": [
    "import sqlite3\n",
    "import pandas as pd\n",
    "\n",
    "# Conectando ao banco de dados SQLite\n",
    "caminho_db = \"../database.db\"\n",
    "conexao = sqlite3.connect(caminho_db)\n",
    "\n",
    "# Cria um dataframe para cada tabela\n",
    "cpu = pd.read_sql_query(\"SELECT * FROM cpu\", conexao)\n",
    "memory = pd.read_sql_query(\"SELECT * FROM memory\", conexao)\n",
    "hd = pd.read_sql_query(\"SELECT * FROM hd\", conexao)\n",
    "ssd = pd.read_sql_query(\"SELECT * FROM ssd\", conexao)\n",
    "psu = pd.read_sql_query(\"SELECT * FROM psu\", conexao)\n",
    "computerCase = pd.read_sql_query(\"SELECT * FROM computerCase\", conexao)\n",
    "cooler = pd.read_sql_query(\"SELECT * FROM cooler\", conexao)\n",
    "gpu = pd.read_sql_query(\"SELECT * FROM gpu\", conexao)\n",
    "motherboard = pd.read_sql_query(\"SELECT * FROM motherboard\", conexao)\n",
    "\n",
    "# Fechando a conexão\n",
    "conexao.close()\n"
   ]
  },
  {
   "cell_type": "code",
   "execution_count": 19,
   "id": "5f9c790a",
   "metadata": {},
   "outputs": [],
   "source": [
    "cpu = cpu.drop_duplicates()\n",
    "memory = memory.drop_duplicates()\n",
    "hd = hd.drop_duplicates()\n",
    "ssd = ssd.drop_duplicates()\n",
    "psu = psu.drop_duplicates()\n",
    "computerCase = computerCase.drop_duplicates()\n",
    "cooler = cooler.drop_duplicates()\n",
    "gpu = gpu.drop_duplicates()\n",
    "motherboard = motherboard.drop_duplicates()"
   ]
  },
  {
   "cell_type": "code",
   "execution_count": 20,
   "id": "3664d406",
   "metadata": {},
   "outputs": [],
   "source": [
    "motherboard = motherboard[~(\n",
    "    (motherboard['extensionPCI3x16'] == 0) &\n",
    "    (motherboard['extensionPCI4x16'] == 0)\n",
    ")]\n",
    "\n",
    "motherboard['socket'] = (\n",
    "    motherboard['socket']\n",
    "    .str.split(',')\n",
    "    .apply(lambda lst: [s.strip() for s in lst])\n",
    ")\n",
    "motherboard = motherboard.explode('socket').reset_index(drop=True)\n",
    "\n",
    "invalid = ['SoC', 'AM1', '775', '2011-v3', '2011-3']\n",
    "motherboard = motherboard[~motherboard['socket'].isin(invalid)]"
   ]
  },
  {
   "cell_type": "code",
   "execution_count": 21,
   "id": "499731de",
   "metadata": {},
   "outputs": [],
   "source": [
    "cpu['socket'] = (\n",
    "    cpu['socket']\n",
    "    .str.split(',')\n",
    "    .apply(lambda lst: [s.strip() for s in lst])\n",
    ")\n",
    "\n",
    "cpu = cpu.explode('socket').reset_index(drop=True)\n",
    "\n",
    "invalid_sockets = ['FM2', 'AM3', 'sWRX80', 'LGA 1851', '1851']\n",
    "cpu = cpu[~cpu['socket'].isin(invalid_sockets)]"
   ]
  },
  {
   "cell_type": "code",
   "execution_count": 22,
   "id": "04a31b76",
   "metadata": {},
   "outputs": [],
   "source": [
    "# Se a coluna 'memoryType' do dataframe motherboard está com valores ['DDR4, SO - DIMM', 'DDR4, ECC - Speicher'], a mesma deve ser alterada para 'DDR4'\n",
    "substituir = ['DDR4, SO - DIMM', 'DDR4, ECC - Speicher']\n",
    "motherboard = motherboard.replace({'memoryType': {k: 'DDR4' for k in substituir}})"
   ]
  },
  {
   "cell_type": "code",
   "execution_count": 23,
   "id": "8d6d129c",
   "metadata": {},
   "outputs": [],
   "source": [
    "# Vamos dar split na coluna 'type' de memory com '-' e manteremos apenas o primeiro item\n",
    "memory['type'] = memory['type'].str.split('-').str[0]\n",
    "memory = memory[~memory['type'].isin(['DDR1', 'DDR2', 'DDR3L'])]"
   ]
  },
  {
   "cell_type": "code",
   "execution_count": 24,
   "id": "95196ac4",
   "metadata": {},
   "outputs": [],
   "source": [
    "# Modificar o valor da coluna 'adicionalFan' de 0 -> false e 1 -> true\n",
    "cooler['adicionalFan'] = cooler['adicionalFan'].map({0: False, 1: True})"
   ]
  },
  {
   "cell_type": "code",
   "execution_count": 25,
   "id": "9a4911fd",
   "metadata": {},
   "outputs": [],
   "source": [
    "cooler['sockets'] = cooler['sockets'].str.split(',')\n",
    "\n",
    "cooler_exploded = cooler.explode('sockets')\n",
    "\n",
    "df_assoc = pd.merge(\n",
    "    cpu[['mpn', 'socket']], \n",
    "    cooler_exploded[['mpn', 'sockets']], \n",
    "    left_on='socket', \n",
    "    right_on='sockets',\n",
    "    how='inner'\n",
    ")\n",
    "\n",
    "CPU_Cooler = df_assoc.rename(columns={\n",
    "    'mpn_x': 'cpu_mpn',\n",
    "    'mpn_y': 'cooler_mpn'\n",
    "})[['cpu_mpn', 'cooler_mpn']].drop_duplicates().reset_index(drop=True)"
   ]
  },
  {
   "cell_type": "code",
   "execution_count": 26,
   "id": "3ec927b2",
   "metadata": {},
   "outputs": [],
   "source": [
    "df_assoc = pd.merge(\n",
    "    cpu[['mpn', 'socket']],\n",
    "    motherboard[['mpn', 'socket']],\n",
    "    on='socket',\n",
    "    how='inner'\n",
    ")\n",
    "\n",
    "CPU_PlacaMae = (\n",
    "    df_assoc\n",
    "    .rename(columns={'mpn_x': 'cpu_mpn', 'mpn_y': 'placamae_mpn'})\n",
    "    [['cpu_mpn', 'placamae_mpn']]\n",
    "    .drop_duplicates()\n",
    "    .reset_index(drop=True)\n",
    ")\n"
   ]
  },
  {
   "cell_type": "code",
   "execution_count": 27,
   "id": "4685f46b",
   "metadata": {},
   "outputs": [],
   "source": [
    "df_assoc = pd.merge(\n",
    "    motherboard[['mpn', 'memoryType']],\n",
    "    memory[['mpn', 'type']],\n",
    "    left_on='memoryType',\n",
    "    right_on='type',\n",
    "    how='inner'\n",
    ")\n",
    "\n",
    "PlacaMae_MemoriaRAM = (\n",
    "    df_assoc\n",
    "    .rename(columns={\n",
    "        'mpn_x': 'placamae_mpn',\n",
    "        'mpn_y': 'memoriaram_mpn'\n",
    "    })\n",
    "    [['placamae_mpn', 'memoriaram_mpn']]\n",
    "    .drop_duplicates()\n",
    "    .reset_index(drop=True)\n",
    ")"
   ]
  },
  {
   "cell_type": "code",
   "execution_count": 30,
   "id": "1f38ee2e",
   "metadata": {},
   "outputs": [],
   "source": [
    "usuario = 'postgres'\n",
    "senha = '843324'\n",
    "host = 'localhost'\n",
    "porta = '5432'\n",
    "novo_banco = banco = 'pc_assembly'\n",
    "caminho_sql = '../modelo_pc_assembly.sql'"
   ]
  },
  {
   "cell_type": "code",
   "execution_count": 31,
   "id": "2b750ec1",
   "metadata": {},
   "outputs": [
    {
     "name": "stdout",
     "output_type": "stream",
     "text": [
      "Banco de dados já existe\n",
      "Banco de dados e tabelas criados com sucesso!\n"
     ]
    }
   ],
   "source": [
    "import psycopg2\n",
    "\n",
    "con = psycopg2.connect(\n",
    "    dbname='postgres',\n",
    "    user=usuario,\n",
    "    password=senha,\n",
    "    host=host,\n",
    "    port=porta\n",
    ")\n",
    "con.autocommit = True\n",
    "cur = con.cursor()\n",
    "try:\n",
    "    cur.execute(f'CREATE DATABASE {novo_banco};')\n",
    "except psycopg2.Error:\n",
    "    print(\"Banco de dados já existe\")\n",
    "cur.close()\n",
    "con.close()\n",
    "\n",
    "con = psycopg2.connect(\n",
    "    dbname=novo_banco,\n",
    "    user=usuario,\n",
    "    password=senha,\n",
    "    host=host,\n",
    "    port=porta\n",
    ")\n",
    "cur = con.cursor()\n",
    "with open(caminho_sql, 'r', encoding='utf-8') as f:\n",
    "    sql_script = f.read()\n",
    "cur.execute(sql_script)  # Executa todo o script de uma vez\n",
    "con.commit()\n",
    "cur.close()\n",
    "con.close()\n",
    "\n",
    "print('Banco de dados e tabelas criados com sucesso!')"
   ]
  },
  {
   "cell_type": "code",
   "execution_count": 32,
   "id": "98e99eb9",
   "metadata": {},
   "outputs": [
    {
     "name": "stdout",
     "output_type": "stream",
     "text": [
      "– Não há registros novos para CPU\n",
      "– Não há registros novos para GPU\n",
      "– Não há registros novos para HD\n",
      "– Não há registros novos para MemoriaRAM\n",
      "– Não há registros novos para PlacaMae\n",
      "– Não há registros novos para FonteDeAlimentacao\n",
      "– Não há registros novos para SSD\n",
      "– Não há registros novos para CPUCooler\n",
      "– Não há registros novos para CPU_Cooler\n",
      "– Não há registros novos para CPU_PlacaMae\n",
      "– Não há registros novos para PlacaMae_MemoriaRAM\n"
     ]
    }
   ],
   "source": [
    "from sqlalchemy import create_engine\n",
    "\n",
    "engine = create_engine(\n",
    "    f\"postgresql+psycopg2://{usuario}:{senha}@{host}:{porta}/{banco}\",\n",
    "    echo=False\n",
    ")\n",
    "\n",
    "pk_cols = {\n",
    "    'CPU': 'mpn',\n",
    "    'GPU': 'mpn',\n",
    "    'HD': 'mpn',\n",
    "    'MemoriaRAM': 'mpn',\n",
    "    'PlacaMae': 'mpn',\n",
    "    'FonteDeAlimentacao': 'mpn',\n",
    "    'SSD': 'mpn',\n",
    "    'CPUCooler': 'mpn',\n",
    "    'CPU_Cooler': ['cpu_mpn','cooler_mpn'],\n",
    "    'CPU_PlacaMae': ['cpu_mpn','placamae_mpn'],\n",
    "    'PlacaMae_MemoriaRAM': ['placamae_mpn','memoriaram_mpn'],\n",
    "}\n",
    "\n",
    "dfs_para_inserir = {\n",
    "    'CPU': cpu,\n",
    "    'GPU': gpu,\n",
    "    'HD': hd,\n",
    "    'MemoriaRAM': memory,\n",
    "    'PlacaMae': motherboard,\n",
    "    'FonteDeAlimentacao': psu,\n",
    "    'SSD': ssd,\n",
    "    'CPUCooler': cooler,\n",
    "    'CPU_Cooler': CPU_Cooler,\n",
    "    'CPU_PlacaMae': CPU_PlacaMae,\n",
    "    'PlacaMae_MemoriaRAM': PlacaMae_MemoriaRAM\n",
    "}\n",
    "\n",
    "for tabela, df in dfs_para_inserir.items():\n",
    "    pk = pk_cols[tabela]\n",
    "    \n",
    "    if isinstance(pk, list):\n",
    "        select_expr = \"||'|'||\".join(pk)\n",
    "        sql = f'SELECT {select_expr} AS pk FROM desktop.\"{tabela}\"'\n",
    "        existentes = pd.read_sql(sql, engine)['pk'].tolist()\n",
    "        df['_pk'] = df[pk].agg('|'.join, axis=1)\n",
    "        df_novo = df[~df['_pk'].isin(existentes)].drop(columns=['_pk'])\n",
    "    else:\n",
    "        sql = f'SELECT \"{pk}\" FROM desktop.\"{tabela}\"'\n",
    "        existentes = pd.read_sql(sql, engine)[pk].tolist()\n",
    "        df_novo = df[~df[pk].isin(existentes)]\n",
    "    \n",
    "    if not df_novo.empty:\n",
    "        df_novo.to_sql(\n",
    "            name=tabela,\n",
    "            con=engine,\n",
    "            schema='desktop',\n",
    "            if_exists='append',\n",
    "            index=False,\n",
    "            method='multi',\n",
    "            chunksize=500\n",
    "        )\n",
    "        print(f\"✔ Inseriu {len(df_novo)} novos em {tabela}\")\n",
    "    else:\n",
    "        print(f\"– Não há registros novos para {tabela}\")\n"
   ]
  }
 ],
 "metadata": {
  "kernelspec": {
   "display_name": "pc-assembly-backend",
   "language": "python",
   "name": "python3"
  },
  "language_info": {
   "codemirror_mode": {
    "name": "ipython",
    "version": 3
   },
   "file_extension": ".py",
   "mimetype": "text/x-python",
   "name": "python",
   "nbconvert_exporter": "python",
   "pygments_lexer": "ipython3",
   "version": "3.11.9"
  }
 },
 "nbformat": 4,
 "nbformat_minor": 5
}
