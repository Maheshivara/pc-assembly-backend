{
 "cells": [
  {
   "cell_type": "code",
   "execution_count": 9,
   "id": "1d322eb0",
   "metadata": {},
   "outputs": [],
   "source": [
    "import sqlite3\n",
    "import pandas as pd\n",
    "\n",
    "# Conectando ao banco de dados SQLite\n",
    "caminho_db = \"../database.db\"\n",
    "conexao = sqlite3.connect(caminho_db)\n",
    "\n",
    "# Cria um dataframe para cada tabela\n",
    "cpu = pd.read_sql_query(\"SELECT * FROM cpu\", conexao)\n",
    "memory = pd.read_sql_query(\"SELECT * FROM memory\", conexao)\n",
    "hd = pd.read_sql_query(\"SELECT * FROM hd\", conexao)\n",
    "ssd = pd.read_sql_query(\"SELECT * FROM ssd\", conexao)\n",
    "psu = pd.read_sql_query(\"SELECT * FROM psu\", conexao)\n",
    "computerCase = pd.read_sql_query(\"SELECT * FROM computerCase\", conexao)\n",
    "cooler = pd.read_sql_query(\"SELECT * FROM cooler\", conexao)\n",
    "gpu = pd.read_sql_query(\"SELECT * FROM gpu\", conexao)\n",
    "motherboard = pd.read_sql_query(\"SELECT * FROM motherboard\", conexao)\n",
    "\n",
    "# Fechando a conexão\n",
    "conexao.close()\n"
   ]
  },
  {
   "cell_type": "code",
   "execution_count": 7,
   "id": "5f9c790a",
   "metadata": {},
   "outputs": [],
   "source": [
    "cpu = cpu.drop_duplicates()\n",
    "memory = memory.drop_duplicates()\n",
    "hd = hd.drop_duplicates()\n",
    "ssd = ssd.drop_duplicates()\n",
    "psu = psu.drop_duplicates()\n",
    "computerCase = computerCase.drop_duplicates()\n",
    "cooler = cooler.drop_duplicates()\n",
    "gpu = gpu.drop_duplicates()\n",
    "motherboard = motherboard.drop_duplicates()"
   ]
  },
  {
   "cell_type": "code",
   "execution_count": 27,
   "id": "2b750ec1",
   "metadata": {},
   "outputs": [
    {
     "name": "stdout",
     "output_type": "stream",
     "text": [
      "Banco de dados já existe\n",
      "Banco de dados e tabelas criados com sucesso!\n"
     ]
    }
   ],
   "source": [
    "import psycopg2\n",
    "\n",
    "# Parâmetros de conexão\n",
    "usuario = 'postgres'\n",
    "senha = '843324'\n",
    "host = 'localhost'\n",
    "porta = '5432'\n",
    "novo_banco = 'pc_assembly'\n",
    "caminho_sql = '../modelo_pc_assembly.sql'\n",
    "\n",
    "# 1. Cria o banco de dados (como já faz)\n",
    "con = psycopg2.connect(\n",
    "    dbname='postgres',\n",
    "    user=usuario,\n",
    "    password=senha,\n",
    "    host=host,\n",
    "    port=porta\n",
    ")\n",
    "con.autocommit = True\n",
    "cur = con.cursor()\n",
    "try:\n",
    "    cur.execute(f'CREATE DATABASE {novo_banco};')\n",
    "except psycopg2.Error:\n",
    "    print(\"Banco de dados já existe\")\n",
    "cur.close()\n",
    "con.close()\n",
    "\n",
    "# 2. Executa o script SQL no novo banco usando psycopg2 puro\n",
    "con = psycopg2.connect(\n",
    "    dbname=novo_banco,\n",
    "    user=usuario,\n",
    "    password=senha,\n",
    "    host=host,\n",
    "    port=porta\n",
    ")\n",
    "cur = con.cursor()\n",
    "with open(caminho_sql, 'r', encoding='utf-8') as f:\n",
    "    sql_script = f.read()\n",
    "cur.execute(sql_script)  # Executa todo o script de uma vez\n",
    "con.commit()\n",
    "cur.close()\n",
    "con.close()\n",
    "\n",
    "print('Banco de dados e tabelas criados com sucesso!')"
   ]
  },
  {
   "cell_type": "code",
   "execution_count": 17,
   "id": "4fd67525",
   "metadata": {},
   "outputs": [
    {
     "name": "stdout",
     "output_type": "stream",
     "text": [
      "Tabelas criadas no banco 'pc_assembly':\n"
     ]
    }
   ],
   "source": [
    "# Verifica se as tabelas foram criadas no banco 'pc_assembly'\n",
    "from sqlalchemy import inspect\n",
    "\n",
    "insp = inspect(engine)\n",
    "tabelas_criadas = insp.get_table_names()\n",
    "print(\"Tabelas criadas no banco 'pc_assembly':\")\n",
    "for tabela in tabelas_criadas:\n",
    "    print(tabela)\n"
   ]
  },
  {
   "cell_type": "code",
   "execution_count": 18,
   "id": "64d5cb8a",
   "metadata": {},
   "outputs": [],
   "source": [
    "from sqlalchemy import create_engine, text\n",
    "\n",
    "# Substitua pelos seus dados de acesso\n",
    "usuario = 'postgres'\n",
    "senha = '843324'\n",
    "host = 'localhost'\n",
    "porta = '5432'\n",
    "banco = 'pc_assembly'\n",
    "\n",
    "# Cria a engine de conexão\n",
    "engine = create_engine(f'postgresql+psycopg2://{usuario}:{senha}@{host}:{porta}/{banco}')\n",
    "\n",
    "# Testando a conexão\n",
    "with engine.connect() as conexao:\n",
    "    resultado = conexao.execute(text(\"SELECT table_name FROM information_schema.tables WHERE table_schema = 'public';\"))\n",
    "    for row in resultado:\n",
    "        print(row)"
   ]
  }
 ],
 "metadata": {
  "kernelspec": {
   "display_name": "pc_assembly",
   "language": "python",
   "name": "python3"
  },
  "language_info": {
   "codemirror_mode": {
    "name": "ipython",
    "version": 3
   },
   "file_extension": ".py",
   "mimetype": "text/x-python",
   "name": "python",
   "nbconvert_exporter": "python",
   "pygments_lexer": "ipython3",
   "version": "3.11.10"
  }
 },
 "nbformat": 4,
 "nbformat_minor": 5
}
